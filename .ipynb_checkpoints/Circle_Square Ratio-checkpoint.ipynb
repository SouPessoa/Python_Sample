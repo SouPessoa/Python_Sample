{
 "cells": [
  {
   "cell_type": "markdown",
   "metadata": {},
   "source": [
    "# Approssimazione del valore del rapporto tra l'area di un quadrato e quella di un cerchio unitario in esso inscritto."
   ]
  },
  {
   "cell_type": "code",
   "execution_count": 1,
   "metadata": {},
   "outputs": [
    {
     "name": "stdout",
     "output_type": "stream",
     "text": [
      "\n",
      "\n",
      "La stima del rapporto è:  0.779\n",
      "\n",
      "\n",
      "Il valore approssimato di pi_greco quarti è:  0.7853981633974483\n",
      "\n",
      "\n",
      "Il valore assoluto della differenza tra la stima e pi/4 è:  0.006398163397448253\n"
     ]
    }
   ],
   "source": [
    "import random\n",
    "import math\n",
    "\n",
    "random.seed(1)\n",
    "\n",
    "def rand():                                                              #funzione rand senza argomenti, restituisce un numero casuale tra -1 e 1 \n",
    "    return random.uniform(-1,1)\n",
    "\n",
    "def distance(x, y):                                                      #funzione per calcolo della distanza euclidea\n",
    "    if len(x) != len(y):\n",
    "        return \"x e y non hanno medesima lunghezza!\"\n",
    "    else:\n",
    "        square_differences = [(x[i] - y[i])**2 for i in range(len(x))]\n",
    "        return math.sqrt(sum(square_differences))\n",
    "    \n",
    "def in_circle(x, origin = [0,0]):                                        #funzione che restituisce VERO se il punto x è dentro la circonferenza unitaria\n",
    "    if len(x) != 2:\n",
    "        return \"x non è a due dimensioni!\"\n",
    "    elif distance(x, origin) < 1:\n",
    "        return True\n",
    "    else:\n",
    "        return False\n",
    "    \n",
    "inside = []\n",
    "\n",
    "R = 10000                                                               #definito un insieme R pari a 10.000\n",
    "\n",
    "def coordinate():                                                       #la funzione restituisce coppie di valori casuali in (-1,1)\n",
    "\n",
    "    return (rand(), rand())\n",
    "\n",
    "while len(inside) < R:                                                  #fino a che la lista inside non raggiunge quota R elementi\n",
    "\n",
    "    inside.append(coordinate())\n",
    "\n",
    "inlist = []\n",
    "\n",
    "for c in inside:\n",
    "\n",
    "    inlist.append(in_circle(c, (0,0)))                                  #alla lista inlist viene aggiunto ogni valore di inside che ricada dentro il cerchio unitario (True == 1)\n",
    "\n",
    "pi_4 = math.pi/4\n",
    "\n",
    "sum_inside = sum(inlist)                                                #sum_inlist somma i valori di inside per paragonarle la sommatoria al valore teorico di pi/4\n",
    "\n",
    "print (\"\\n\")\n",
    "print (\"La stima del rapporto è: \",(inlist.count(True) / R))\n",
    "print (\"\\n\")\n",
    "print(\"Il valore approssimato di pi_greco quarti è: \", (pi_4))\n",
    "print (\"\\n\")\n",
    "print(\"Il valore assoluto della differenza tra la stima e pi/4 è: \", (math.pi / 4 - sum_inside / R))"
   ]
  }
 ],
 "metadata": {
  "kernelspec": {
   "display_name": "Python 3",
   "language": "python",
   "name": "python3"
  },
  "language_info": {
   "codemirror_mode": {
    "name": "ipython",
    "version": 3
   },
   "file_extension": ".py",
   "mimetype": "text/x-python",
   "name": "python",
   "nbconvert_exporter": "python",
   "pygments_lexer": "ipython3",
   "version": "3.7.6"
  }
 },
 "nbformat": 4,
 "nbformat_minor": 4
}
