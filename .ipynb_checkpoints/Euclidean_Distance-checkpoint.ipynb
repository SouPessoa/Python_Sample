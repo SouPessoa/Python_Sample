{
 "cells": [
  {
   "cell_type": "markdown",
   "metadata": {},
   "source": [
    "# Euclidean Distance"
   ]
  },
  {
   "cell_type": "markdown",
   "metadata": {},
   "source": [
    "### Semplice funzione che, data una tupla di valori corrispondenti alle coordinate di due punti sul piano, restituisce la distanza euclidea."
   ]
  },
  {
   "cell_type": "markdown",
   "metadata": {},
   "source": [
    "#### Sfrutta il modulo math."
   ]
  },
  {
   "cell_type": "code",
   "execution_count": 1,
   "metadata": {},
   "outputs": [],
   "source": [
    "import math\n",
    "\n",
    "def distance (x,y):\n",
    "    \n",
    "    diff_x = x[0] - y[0]\n",
    "    diff_x_2 = diff_x ** 2\n",
    "    \n",
    "    diff_y = x[1] - y[1]\n",
    "    diff_y_2 =  diff_y ** 2\n",
    "    \n",
    "    sum_diff = diff_x_2 + diff_y_2\n",
    "    \n",
    "    distance = math.sqrt(sum_diff)\n",
    "    \n",
    "    return (distance)"
   ]
  },
  {
   "cell_type": "code",
   "execution_count": 2,
   "metadata": {},
   "outputs": [],
   "source": [
    "x, y = (0,0), (1,1)"
   ]
  },
  {
   "cell_type": "code",
   "execution_count": 3,
   "metadata": {},
   "outputs": [
    {
     "name": "stdout",
     "output_type": "stream",
     "text": [
      "La distanza tra il punto di coordinate (0, 0) e quello di coordinate (1, 1) è: 1.4142135623730951\n"
     ]
    }
   ],
   "source": [
    "print(\"La distanza tra il punto di coordinate\", x, \"e quello di coordinate\", y, \"è:\", distance((0,0),(1,1)))"
   ]
  }
 ],
 "metadata": {
  "kernelspec": {
   "display_name": "Python 3",
   "language": "python",
   "name": "python3"
  },
  "language_info": {
   "codemirror_mode": {
    "name": "ipython",
    "version": 3
   },
   "file_extension": ".py",
   "mimetype": "text/x-python",
   "name": "python",
   "nbconvert_exporter": "python",
   "pygments_lexer": "ipython3",
   "version": "3.7.6"
  }
 },
 "nbformat": 4,
 "nbformat_minor": 4
}
