{
 "cells": [
  {
   "cell_type": "markdown",
   "metadata": {},
   "source": [
    "# K-nearest neighbors algorithm (k-NN)"
   ]
  },
  {
   "cell_type": "markdown",
   "metadata": {},
   "source": [
    "### In ambito di machine learning, il K-nearest neighbors (k-NN) è un algoritmo in grado di riconoscere automaticamente dei pattern nel dataset per generare una classificazione dell'elemento considerato basandosi sulle caratteristiche degli n elementi vicini."
   ]
  },
  {
   "cell_type": "code",
   "execution_count": 1,
   "metadata": {},
   "outputs": [
    {
     "name": "stdout",
     "output_type": "stream",
     "text": [
      "\n",
      "\n",
      "L'array di partenza era:  [0, 10, 5, 3, 1, 5]\n",
      "\n",
      "\n",
      "L'output dell'algoritmo k-NN è:  [3.3333333333333335, 5.0, 6.0, 3.0, 3.0, 3.6666666666666665]\n",
      "\n",
      "\n",
      "La somma dei valori ricalcolati è:  24.000000000000004 ; quella dei valori di partenza era:  24\n",
      "\n",
      "\n",
      "Al crescere della lunghezza del campione neighbor, \n",
      "la distanza tra il valore massimo e quello minimo della lista segue l'andamento: \n",
      " \n",
      " [0.9973152343362711, 0.9128390185520854, 0.801645771909397, 0.7137391224212468, 0.6230146948375028, 0.5042284086774562, 0.5071013753101629, 0.4590090496908159, 0.44659549539083265, 0.4433696944090051]\n",
      "\n",
      "\n",
      "Con una lista sufficientemente lunga di numeri generati casualmente tra 0 ed 1 \n",
      "all'aumentare dei valori dell'intorno al numero da modificare il range si riddurrà.\n"
     ]
    }
   ],
   "source": [
    "import random\n",
    "\n",
    "def moving_window_average(x, n_neighbors=1):                    #funzione che restituisce una lista smooth\n",
    "                                                                #prendendo per ogni valore della lista x di partenza la media  \n",
    "                                                                #del valore stesso e degli n neighbors\n",
    "    n = len(x)\n",
    "    \n",
    "    global width\n",
    "    width = n_neighbors*2 + 1                                   #denominatore della media tra il valore originario e gli n neighbors\n",
    "    \n",
    "    x = [x[0]]*n_neighbors + x + [x[-1]]*n_neighbors            #sostituisce la lista originaria con una estesa di n neighbors\n",
    "                                                                #per il primo e l'ultimo elemento della lista\n",
    "    \n",
    "    return [sum(x[i:(i+width)]) / width for i in range(n)]      #restituisce lista smoothed\n",
    "\n",
    "x = [0,10,5,3,1,5]\n",
    "\n",
    "print(\"\\n\")\n",
    "print(\"L'array di partenza era: \", x)\n",
    "print(\"\\n\")\n",
    "print(\"L'output dell'algoritmo k-NN è: \", moving_window_average(x, 1))\n",
    "print(\"\\n\")\n",
    "print(\"La somma dei valori ricalcolati è: \",sum(moving_window_average(x, 1)),\";\", \"quella dei valori di partenza era: \", sum(x))\n",
    "print(\"\\n\")\n",
    "\n",
    "random.seed(1)\n",
    "\n",
    "R = 1000                                                        #viene creata una lista di R= 1.000 valori casuali compresi tra 0 ed 1\n",
    "x = [random.random() for i in range(R)]                     \n",
    "Y = [x] + [moving_window_average(x, i) for i in range(1, 10)]   #la nuova lista Y contiene le liste con moving window average da 1 a 9 incluso\n",
    "\n",
    "ranges = [max(x) - min(x) for x in Y]                           #la variabile ranges accoglie il range (max-min) per tutte le liste di Y\n",
    "\n",
    "print(\"Al crescere della lunghezza del campione neighbor, \\nla distanza tra il valore massimo e quello minimo della lista segue l'andamento: \\n\",\"\\n\",ranges)                                               #viene stampato il range di ciascuna lista smooth\n",
    "                                                            \n",
    "print(\"\\n\")\n",
    "\n",
    "print(\"Con una lista sufficientemente lunga di numeri generati casualmente tra 0 ed 1 \\nall'aumentare dei valori dell'intorno al numero da modificare il range si riddurrà.\")\n"
   ]
  }
 ],
 "metadata": {
  "kernelspec": {
   "display_name": "Python 3",
   "language": "python",
   "name": "python3"
  },
  "language_info": {
   "codemirror_mode": {
    "name": "ipython",
    "version": 3
   },
   "file_extension": ".py",
   "mimetype": "text/x-python",
   "name": "python",
   "nbconvert_exporter": "python",
   "pygments_lexer": "ipython3",
   "version": "3.7.6"
  }
 },
 "nbformat": 4,
 "nbformat_minor": 4
}
