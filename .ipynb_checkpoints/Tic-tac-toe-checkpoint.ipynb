{
 "cells": [
  {
   "cell_type": "markdown",
   "metadata": {},
   "source": [
    "# Tic-tac-toe (TRIS) simulator "
   ]
  },
  {
   "cell_type": "markdown",
   "metadata": {},
   "source": [
    "### In questo programma vengono definite tutte le dinamiche del gioco del TRIS, creando una funzione per:\n",
    "    \n",
    "    1. creare la griglia di gioco 3x3;\n",
    "    2. assegnare ad una data posizione, se ancora libera, la posizione del player;\n",
    "    3. calcolare tutte le celle ancora selezionabili, dopo n turni di partita;\n",
    "    4. sfruttare il modulo random.choice per valorizzare una cella libera quale nuova mossa del player;\n",
    "    5. identificare uno schema di vittoria per un tris su riga;\n",
    "    6. identificare uno schema di vittoria per un tris su colonna;\n",
    "    7. identificare uno schema di vittoria per un tris sulle diagonali;\n",
    "    8. decretare la vittoria del player 1/2."
   ]
  },
  {
   "cell_type": "code",
   "execution_count": 1,
   "metadata": {},
   "outputs": [],
   "source": [
    "import random \n",
    "random.seed(1)\n",
    "import numpy as np\n",
    "\n",
    "def create_board():                             #1\n",
    "    board = np.zeros((3,3), dtype=int)\n",
    "    return board\n",
    "\n",
    "def place(board, player, position):             #2\n",
    "    if board[position] == 0: \n",
    "        board[position] = player\n",
    "        return board\n",
    "    \n",
    "def possibilities(board):                       #3\n",
    "    return list(zip(*np.where(board == 0)))\n",
    "\n",
    "def random_place(board, player):                #4\n",
    "    selections = possibilities(board)\n",
    "    if len(selections) > 0:\n",
    "        selection = random.choice(selections)\n",
    "        place(board, player, selection)\n",
    "    return board\n",
    "\n",
    "def row_win(board, player):                     #5\n",
    "    if np.any(np.all(board==player, axis=1)): \n",
    "        return True\n",
    "    else:\n",
    "        return False\n",
    "    \n",
    "def col_win(board, player):                     #6\n",
    "    if np.any(np.all(board==player, axis=0)): \n",
    "        return True\n",
    "    else:\n",
    "        return False\n",
    "    \n",
    "def diag_win(board, player):                    #7\n",
    "    if np.all(np.diag(board)==player) or np.all(np.diag(np.fliplr(board))==player):\n",
    "        # np.diag returns the diagonal of the array\n",
    "        # np.fliplr rearranges columns in reverse order\n",
    "        return True\n",
    "    else:\n",
    "        return False\n",
    "    \n",
    "def evaluate(board):                            #8\n",
    "    winner = 0\n",
    "    for player in [1, 2]:\n",
    "        if row_win(board, player) or col_win(board, player) or diag_win(board, player):\n",
    "            winner = player\n",
    "    \n",
    "        if np.all(board != 0) and winner == 0:\n",
    "            winner = -1\n",
    "    return winner"
   ]
  },
  {
   "cell_type": "markdown",
   "metadata": {},
   "source": [
    "### Creiamo dunque una funzione play_game per simulare una partita fino a che non si ottiene un vincitore."
   ]
  },
  {
   "cell_type": "code",
   "execution_count": 2,
   "metadata": {},
   "outputs": [],
   "source": [
    "random.seed(1)\n",
    "\n",
    "def play_game():\n",
    "    board = create_board()\n",
    "    winner = 0\n",
    "    \n",
    "    while winner == 0:\n",
    "        for player in [1, 2]:\n",
    "            random_place(board, player)\n",
    "            winner = evaluate(board)\n",
    "            if winner != 0:\n",
    "                break\n",
    "    return winner"
   ]
  },
  {
   "cell_type": "markdown",
   "metadata": {},
   "source": [
    "### La funzione play_game assegna casualmente il primo turno e la prima mossa, calcoliamo dunque su n. 1.000 simulazioni quante volte risulta vincente il Player 1."
   ]
  },
  {
   "cell_type": "code",
   "execution_count": 3,
   "metadata": {},
   "outputs": [
    {
     "data": {
      "text/plain": [
       "591"
      ]
     },
     "execution_count": 3,
     "metadata": {},
     "output_type": "execute_result"
    }
   ],
   "source": [
    "results = [play_game() for i in range(1000)]\n",
    "results.count(1)"
   ]
  },
  {
   "cell_type": "markdown",
   "metadata": {},
   "source": [
    "### Definiamo allora la funzione di gioco Play_strategic_game per assegnare la cella in alto a sinistra (1,1) al Player 1. Come impatterà sulle sue possibilità di vittoria?"
   ]
  },
  {
   "cell_type": "code",
   "execution_count": 4,
   "metadata": {},
   "outputs": [],
   "source": [
    "random.seed(1)\n",
    "def play_strategic_game():\n",
    "    board = create_board()\n",
    "    winner = 0\n",
    "    board[1,1] = 1\n",
    "    \n",
    "    while winner == 0:\n",
    "        for player in [2,1]:\n",
    "            random_place(board, player)\n",
    "            winner = evaluate(board)\n",
    "            if winner != 0:\n",
    "                break\n",
    "    return winner"
   ]
  },
  {
   "cell_type": "code",
   "execution_count": 5,
   "metadata": {},
   "outputs": [
    {
     "data": {
      "text/plain": [
       "716"
      ]
     },
     "execution_count": 5,
     "metadata": {},
     "output_type": "execute_result"
    }
   ],
   "source": [
    "results = [play_strategic_game() for i in range(1000)]\n",
    "results.count(1)"
   ]
  },
  {
   "cell_type": "markdown",
   "metadata": {},
   "source": [
    "### In uno scenario di scelte puramente randomico, effettuare la prima mossa in una cella angolare quale la (1,1) aumenta le possibilità di vittoria di oltre il 12%."
   ]
  }
 ],
 "metadata": {
  "kernelspec": {
   "display_name": "Python 3",
   "language": "python",
   "name": "python3"
  },
  "language_info": {
   "codemirror_mode": {
    "name": "ipython",
    "version": 3
   },
   "file_extension": ".py",
   "mimetype": "text/x-python",
   "name": "python",
   "nbconvert_exporter": "python",
   "pygments_lexer": "ipython3",
   "version": "3.7.6"
  },
  "varInspector": {
   "cols": {
    "lenName": 16,
    "lenType": 16,
    "lenVar": 40
   },
   "kernels_config": {
    "python": {
     "delete_cmd_postfix": "",
     "delete_cmd_prefix": "del ",
     "library": "var_list.py",
     "varRefreshCmd": "print(var_dic_list())"
    },
    "r": {
     "delete_cmd_postfix": ") ",
     "delete_cmd_prefix": "rm(",
     "library": "var_list.r",
     "varRefreshCmd": "cat(var_dic_list()) "
    }
   },
   "types_to_exclude": [
    "module",
    "function",
    "builtin_function_or_method",
    "instance",
    "_Feature"
   ],
   "window_display": false
  }
 },
 "nbformat": 4,
 "nbformat_minor": 4
}
