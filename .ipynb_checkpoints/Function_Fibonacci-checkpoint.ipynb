{
 "cells": [
  {
   "cell_type": "markdown",
   "metadata": {
    "colab": {},
    "colab_type": "code",
    "id": "FbjLnTp8IQEr"
   },
   "source": [
    "# La serie di Fibonacci"
   ]
  },
  {
   "cell_type": "markdown",
   "metadata": {},
   "source": [
    "### Questa funzione, definita fibo(n), è stata scritta per generare una serie di Fibonacci."
   ]
  },
  {
   "cell_type": "markdown",
   "metadata": {},
   "source": [
    "#### L'unico parametro richiesto è il valore n che pone un cap al valore massimo contenuto nella serie generata."
   ]
  },
  {
   "cell_type": "code",
   "execution_count": 1,
   "metadata": {},
   "outputs": [],
   "source": [
    "def fibo(n):\n",
    "    a, b = 0, 1\n",
    "    result = []\n",
    "    while a < n :\n",
    "        result.append(a)\n",
    "        a, b = b, a+b\n",
    "    return (result)"
   ]
  },
  {
   "cell_type": "code",
   "execution_count": 2,
   "metadata": {
    "colab": {
     "base_uri": "https://localhost:8080/",
     "height": 1000
    },
    "colab_type": "code",
    "executionInfo": {
     "elapsed": 1260,
     "status": "ok",
     "timestamp": 1586765040286,
     "user": {
      "displayName": "Alessandro Proietti",
      "photoUrl": "https://lh3.googleusercontent.com/a-/AOh14Gh3dVN3mg3jgdP4EjK09asJlnLic9oeFib6Aj5dIA=s64",
      "userId": "09190467658459494263"
     },
     "user_tz": -120
    },
    "id": "hDwFWr6xIQFO",
    "outputId": "993447a2-59a4-420a-d5e1-294c6f93c149"
   },
   "outputs": [
    {
     "data": {
      "text/plain": [
       "[0, 1, 1, 2, 3, 5, 8, 13, 21, 34, 55, 89, 144, 233, 377, 610, 987]"
      ]
     },
     "execution_count": 2,
     "metadata": {},
     "output_type": "execute_result"
    }
   ],
   "source": [
    "fibo(1024)"
   ]
  },
  {
   "cell_type": "markdown",
   "metadata": {},
   "source": [
    "### Programma identico, ma con funzione ridefinita per accettare un secondo parametro 'c' tale da non considerare i primi 'c' risultati della serie."
   ]
  },
  {
   "cell_type": "code",
   "execution_count": 3,
   "metadata": {
    "colab": {},
    "colab_type": "code",
    "id": "X2XvGju8IQFw"
   },
   "outputs": [],
   "source": [
    "def fib2(n,c):\n",
    "    a = 0\n",
    "    b = 1\n",
    "    result = []\n",
    "    count = []\n",
    "    while a < n :\n",
    "        result.append(a)\n",
    "        a, b = b, a+b\n",
    "    count = result[c:]\n",
    "    return(count)"
   ]
  },
  {
   "cell_type": "code",
   "execution_count": 4,
   "metadata": {
    "colab": {},
    "colab_type": "code",
    "id": "kYwnGXUbIQGE",
    "outputId": "b0dfedf3-6e28-4520-b67a-ea2f6093dc12"
   },
   "outputs": [
    {
     "data": {
      "text/plain": [
       "[55, 89, 144, 233, 377, 610, 987, 1597, 2584, 4181, 6765]"
      ]
     },
     "execution_count": 4,
     "metadata": {},
     "output_type": "execute_result"
    }
   ],
   "source": [
    "fib2(10500,10)"
   ]
  }
 ],
 "metadata": {
  "colab": {
   "name": "Copy of Fibonacci.ipynb",
   "provenance": [
    {
     "file_id": "1Th-Rx-K9mDBIpOOf9uihO4UWhB0xCdsn",
     "timestamp": 1586707474321
    },
    {
     "file_id": "1mmROhA7Q-ukSeTzlgr1zaCVVYf3kq1oC",
     "timestamp": 1586707387012
    }
   ]
  },
  "kernelspec": {
   "display_name": "Python 3",
   "language": "python",
   "name": "python3"
  },
  "language_info": {
   "codemirror_mode": {
    "name": "ipython",
    "version": 3
   },
   "file_extension": ".py",
   "mimetype": "text/x-python",
   "name": "python",
   "nbconvert_exporter": "python",
   "pygments_lexer": "ipython3",
   "version": "3.7.6"
  }
 },
 "nbformat": 4,
 "nbformat_minor": 4
}
