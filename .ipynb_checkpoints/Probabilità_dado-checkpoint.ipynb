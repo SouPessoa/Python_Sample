{
 "cells": [
  {
   "cell_type": "code",
   "execution_count": 31,
   "metadata": {},
   "outputs": [],
   "source": [
    "#In questo script viene definita la funzione prob_dado con il parametro k pari\n",
    "#al numero di lanci casuali effettuati.\n",
    "\n",
    "import random\n",
    "import matplotlib.pyplot as plot\n",
    "import numpy as np\n",
    "\n",
    "\n",
    "def prob_dado (k):\n",
    "\n",
    "    z = list()\n",
    "\n",
    "    for x in range(k):\n",
    "     y = random.choice([1,2,3,4,5,6])\n",
    "     z.append(y)\n",
    "    #print(x,\": \",y)\n",
    "\n",
    "    uno = int()\n",
    "    due = int()\n",
    "    tre = int()\n",
    "    quattro = int()\n",
    "    cinque = int()\n",
    "    sei = int()\n",
    "\n",
    "    for x in list(z):\n",
    "        if x == 1:\n",
    "            uno += 1\n",
    "        elif x == 2:\n",
    "            due += 1\n",
    "        elif x == 3:\n",
    "            tre += 1\n",
    "        elif x == 4:\n",
    "            quattro += 1\n",
    "        elif x == 5:\n",
    "            cinque += 1\n",
    "        else:\n",
    "            sei += 1\n",
    "\n",
    "    #print(\"\\n\", z)\n",
    "    print(\"\\n\", \"Dopo\", k, \"estrazioni casuali,\")\n",
    "    print(\"\\n\", \"il numero di volte in cui è uscito 'Uno':\", uno)\n",
    "    print(\"\\n\", \"Il numero di volte in cui è uscito 'Due':\", due)\n",
    "    print(\"\\n\", \"Il numero di volte in cui è uscito 'Tre':\", tre)\n",
    "    print(\"\\n\", \"Il numero di volte in cui è uscito 'Quattro':\", quattro)\n",
    "    print(\"\\n\", \"Il numero di volte in cui è uscito 'Cinque':\", cinque)\n",
    "    print(\"\\n\", \"Il numero di volte in cui è uscito 'Sei':\", sei)\n",
    "    print(\"\\n\")\n",
    "    print(\"Il valore atteso teorico è pari a \",(1*(1/6))+(2*(1/6))+(3*(1/6))+(4*(1/6))+(5*(1/6))+(6*(1/6)), \", quello derivante da n = \",k, \"estrazioni casuali è invece pari a \", (1*(uno/k))+(2*(due/k))+(3*(tre/k))+(4*(quattro/k))+(5*(cinque/k))+(6*(sei/k)))\n",
    "    \n",
    "    plot.figure();\n",
    "    \n",
    "    plot.subplot(121)\n",
    "    plot.xticks([0,1.0,2.0,3.0,4.0,5.0,6.0])\n",
    "    plot.yticks([0,0.1,0.2,0.3,0.4,0.5,0.6, 0.7, 0.8, 0.9, 1])\n",
    "    plot.xlabel('Faccia del dado')\n",
    "    plot.ylabel('Frequenza')\n",
    "    plot.title('Funzione di densità')\n",
    "    plot.hist(z, density=True, histtype = \"bar\", align=\"mid\", bins = np.linspace(0.5, 6.5, 7));\n",
    "    \n",
    "    \n",
    "    plot.subplot(122)  \n",
    "    plot.xticks([0,1.0,2.0,3.0,4.0,5.0,6.0])\n",
    "    plot.yticks([0,0.1,0.2,0.3,0.4,0.5,0.6, 0.7, 0.8, 0.9, 1])\n",
    "    plot.xlabel('Faccia del dado')\n",
    "    plot.title('Funzione di ripartizione')\n",
    "    plot.hist(z, density=True,cumulative = True, bins = np.linspace(0.5, 6.5, 7), align=\"mid\", facecolor='gray');"
   ]
  },
  {
   "cell_type": "code",
   "execution_count": 32,
   "metadata": {},
   "outputs": [
    {
     "name": "stdout",
     "output_type": "stream",
     "text": [
      "\n",
      " Dopo 10 estrazioni casuali,\n",
      "\n",
      " il numero di volte in cui è uscito 'Uno': 1\n",
      "\n",
      " Il numero di volte in cui è uscito 'Due': 1\n",
      "\n",
      " Il numero di volte in cui è uscito 'Tre': 2\n",
      "\n",
      " Il numero di volte in cui è uscito 'Quattro': 1\n",
      "\n",
      " Il numero di volte in cui è uscito 'Cinque': 3\n",
      "\n",
      " Il numero di volte in cui è uscito 'Sei': 2\n",
      "\n",
      "\n",
      "Il valore atteso teorico è pari a  3.5 , quello derivante da n =  10 estrazioni casuali è invece pari a  4.0\n"
     ]
    },
    {
     "data": {
      "image/png": "[encoded data removed]",
      "text/plain": [
       "<Figure size 432x288 with 2 Axes>"
      ]
     },
     "metadata": {
      "needs_background": "light"
     },
     "output_type": "display_data"
    }
   ],
   "source": [
    "prob_dado(10)"
   ]
  },
  {
   "cell_type": "code",
   "execution_count": 36,
   "metadata": {},
   "outputs": [
    {
     "name": "stdout",
     "output_type": "stream",
     "text": [
      "\n",
      " Dopo 1000000 estrazioni casuali,\n",
      "\n",
      " il numero di volte in cui è uscito 'Uno': 166847\n",
      "\n",
      " Il numero di volte in cui è uscito 'Due': 165904\n",
      "\n",
      " Il numero di volte in cui è uscito 'Tre': 167334\n",
      "\n",
      " Il numero di volte in cui è uscito 'Quattro': 166786\n",
      "\n",
      " Il numero di volte in cui è uscito 'Cinque': 166392\n",
      "\n",
      " Il numero di volte in cui è uscito 'Sei': 166737\n",
      "\n",
      "\n",
      "Il valore atteso teorico è pari a  3.5 , quello derivante da n =  1000000 estrazioni casuali è invece pari a  3.500183\n"
     ]
    },
    {
     "data": {
      "image/png": "[encoded data removed]",
      "text/plain": [
       "<Figure size 432x288 with 2 Axes>"
      ]
     },
     "metadata": {
      "needs_background": "light"
     },
     "output_type": "display_data"
    }
   ],
   "source": [
    "prob_dado(1000000)"
   ]
  },
  {
   "cell_type": "code",
   "execution_count": 46,
   "metadata": {},
   "outputs": [],
   "source": [
    "#Si vuole dunque osservare la distribuzione di una variabile ys\n",
    "#costruita come n-volte la somma dell'estrazione contestuale di 10 dadi indipendenti\n",
    "#Il teorema del Limite Centrale ricorda che la distribuzione di un numero elevato\n",
    "#di variabili casuali indipendenti e identicamente distribuite tende a distribuirsi normalmente,\n",
    "#indipendentemente dalla forma della distrubuzione di ciascuna delle variabili di partenza.\n",
    "\n",
    "def prob_10(n):\n",
    "    \n",
    "    ys = []\n",
    "\n",
    "    for rep in range(n):  \n",
    "        y = 0        \n",
    "        for k in range(10):\n",
    "          x = random.choice([1,2,3,4,5,6])\n",
    "          y = y + x\n",
    "        ys.append(y)\n",
    "    plot.hist(ys, bins = np.linspace(5.5, 60.5, 61));"
   ]
  },
  {
   "cell_type": "code",
   "execution_count": 47,
   "metadata": {},
   "outputs": [
    {
     "data": {
      "image/png": "[encoded data removed]",
      "text/plain": [
       "<Figure size 432x288 with 1 Axes>"
      ]
     },
     "metadata": {
      "needs_background": "light"
     },
     "output_type": "display_data"
    }
   ],
   "source": [
    "prob_10(10)"
   ]
  },
  {
   "cell_type": "code",
   "execution_count": 49,
   "metadata": {},
   "outputs": [
    {
     "data": {
      "image/png": "[encoded data removed]",
      "text/plain": [
       "<Figure size 432x288 with 1 Axes>"
      ]
     },
     "metadata": {
      "needs_background": "light"
     },
     "output_type": "display_data"
    }
   ],
   "source": [
    "prob_10(10000000)"
   ]
  },
  {
   "cell_type": "code",
   "execution_count": null,
   "metadata": {},
   "outputs": [],
   "source": []
  }
 ],
 "metadata": {
  "kernelspec": {
   "display_name": "Python 3",
   "language": "python",
   "name": "python3"
  },
  "language_info": {
   "codemirror_mode": {
    "name": "ipython",
    "version": 3
   },
   "file_extension": ".py",
   "mimetype": "text/x-python",
   "name": "python",
   "nbconvert_exporter": "python",
   "pygments_lexer": "ipython3",
   "version": "3.7.6"
  },
  "varInspector": {
   "cols": {
    "lenName": 16,
    "lenType": 16,
    "lenVar": 40
   },
   "kernels_config": {
    "python": {
     "delete_cmd_postfix": "",
     "delete_cmd_prefix": "del ",
     "library": "var_list.py",
     "varRefreshCmd": "print(var_dic_list())"
    },
    "r": {
     "delete_cmd_postfix": ") ",
     "delete_cmd_prefix": "rm(",
     "library": "var_list.r",
     "varRefreshCmd": "cat(var_dic_list()) "
    }
   },
   "types_to_exclude": [
    "module",
    "function",
    "builtin_function_or_method",
    "instance",
    "_Feature"
   ],
   "window_display": false
  }
 },
 "nbformat": 4,
 "nbformat_minor": 4
}
