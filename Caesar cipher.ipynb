{
 "cells": [
  {
   "cell_type": "markdown",
   "metadata": {},
   "source": [
    "# Il cifrario di Cesare"
   ]
  },
  {
   "cell_type": "markdown",
   "metadata": {},
   "source": [
    "### In questo programma implementeremo quello che, storicamente, viene definito quale il \"Cifrario di Giulio Cesare\", servito a quest'ultimo quale mezzo per mandare messaggi criptati ai suoi generali durante i tempi di guerra."
   ]
  },
  {
   "cell_type": "markdown",
   "metadata": {},
   "source": [
    "In tale cifrario ogni lettera del messaggio viene spostata, dalla posizione originaria, di n lettere dell'alfabeto.\n",
    "Se la chiave di cifratura è 1, ogni lettera che compone il messaggio verrà spostata di un carattere.\n",
    "Se così facendo si giunge alla fine dell'alfabeto, si ricomincia dalla prima lettera.\n",
    "\n",
    "Il processo di decifratura segue le medesime regole ma con un approccio speculare: se la chiave è 1, ogni lettera cifrata verrà riproposta decifrata con quella che la precede nell'alfabeto."
   ]
  },
  {
   "cell_type": "code",
   "execution_count": null,
   "metadata": {},
   "outputs": [],
   "source": [
    "import string\n",
    "alphabet = \" \" + string.ascii_lowercase   \n",
    "positions = {}\n",
    "index = 0"
   ]
  },
  {
   "cell_type": "code",
   "execution_count": null,
   "metadata": {},
   "outputs": [],
   "source": [
    "for char in alphabet:\n",
    "    positions[char] = index\n",
    "    index += 1"
   ]
  },
  {
   "cell_type": "code",
   "execution_count": null,
   "metadata": {},
   "outputs": [],
   "source": [
    "def encoding(message, key = 0):\n",
    "    encoding_list = []\n",
    "    for char in message:\n",
    "        position = positions[char]\n",
    "        encoded_position = (position + key) % 27\n",
    "        encoding_list.append(alphabet[encoded_position])\n",
    "    encoded_string = \"\".join(encoding_list)\n",
    "    return encoded_string\n",
    "\n",
    "message = \"io sono cesare\"\n",
    "k = 3\n",
    "encoded_message = encoding(message, k)\n",
    "print(\"Il messaggio non cifrato è: \",message,\".\", \"\\nL'equivalente cifrato con chiave\",k, \"sarà:\",encoded_message)"
   ]
  },
  {
   "cell_type": "markdown",
   "metadata": {},
   "source": [
    "### Per decifrare il messaggio basterà usare la funzione definita con chiave inversa a quella usata per criptare."
   ]
  },
  {
   "cell_type": "code",
   "execution_count": 4,
   "metadata": {},
   "outputs": [],
   "source": [
    "decoded_message = encoding(encoded_message, -k)"
   ]
  },
  {
   "cell_type": "code",
   "execution_count": 5,
   "metadata": {},
   "outputs": [
    {
     "name": "stdout",
     "output_type": "stream",
     "text": [
      "io sono cesare\n"
     ]
    }
   ],
   "source": [
    "print(decoded_message)"
   ]
  }
 ],
 "metadata": {
  "kernelspec": {
   "display_name": "Python 3",
   "language": "python",
   "name": "python3"
  },
  "language_info": {
   "codemirror_mode": {
    "name": "ipython",
    "version": 3
   },
   "file_extension": ".py",
   "mimetype": "text/x-python",
   "name": "python",
   "nbconvert_exporter": "python",
   "pygments_lexer": "ipython3",
   "version": "3.7.6"
  },
  "varInspector": {
   "cols": {
    "lenName": 16,
    "lenType": 16,
    "lenVar": 40
   },
   "kernels_config": {
    "python": {
     "delete_cmd_postfix": "",
     "delete_cmd_prefix": "del ",
     "library": "var_list.py",
     "varRefreshCmd": "print(var_dic_list())"
    },
    "r": {
     "delete_cmd_postfix": ") ",
     "delete_cmd_prefix": "rm(",
     "library": "var_list.r",
     "varRefreshCmd": "cat(var_dic_list()) "
    }
   },
   "types_to_exclude": [
    "module",
    "function",
    "builtin_function_or_method",
    "instance",
    "_Feature"
   ],
   "window_display": false
  }
 },
 "nbformat": 4,
 "nbformat_minor": 4
}
