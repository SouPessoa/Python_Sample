{
 "cells": [
  {
   "cell_type": "markdown",
   "metadata": {},
   "source": [
    "# Funzione dizionario_conta_lettere"
   ]
  },
  {
   "cell_type": "markdown",
   "metadata": {},
   "source": [
    "#### Questa funzione, definita come da codice sotto, prende come unico argomento una stringa di testo e rende un dizionario con lettere uniche come key e numero di occorrenze delle stesse come value"
   ]
  },
  {
   "cell_type": "code",
   "execution_count": 1,
   "metadata": {},
   "outputs": [],
   "source": [
    "def count_lett(sentence):\n",
    "\n",
    "    import string\n",
    "\n",
    "    alphabet = string.ascii_letters #alfabeto upper/lowercase\n",
    "\n",
    "    sentence_list = list(sentence)\n",
    "\n",
    "    letters = list()\n",
    "\n",
    "    unique_letters = list()\n",
    "\n",
    "    for i in sentence_list:\n",
    "        if i in alphabet:\n",
    "            letters.append(i)\n",
    "\n",
    "    for i in letters:\n",
    "        if i not in unique_letters:\n",
    "            unique_letters.append(i)\n",
    "        else: pass\n",
    "\n",
    "    count_letter = {} \n",
    "\n",
    "    for i in unique_letters:\n",
    "\n",
    "        tmp = {i : letters.count(i)}\n",
    "        count_letter.update(tmp)\n",
    "    \n",
    "    print(\"\\n\")\n",
    "    print(count_letter)\n",
    "    print(\"\\n\")\n",
    "    print(count_letter.keys())\n",
    "    print(\"\\n\")\n",
    "    print(count_letter.values())"
   ]
  },
  {
   "cell_type": "code",
   "execution_count": 2,
   "metadata": {},
   "outputs": [
    {
     "name": "stdout",
     "output_type": "stream",
     "text": [
      "\n",
      "\n",
      "{'Q': 1, 'u': 8, 'e': 28, 's': 7, 't': 9, 'a': 8, 'f': 2, 'n': 15, 'z': 3, 'i': 11, 'o': 16, 'd': 7, 'c': 9, 'm': 6, 'p': 2, 'r': 10, 'g': 2, 'l': 4, 'h': 1, 'k': 1, 'y': 1, 'v': 1}\n",
      "\n",
      "\n",
      "dict_keys(['Q', 'u', 'e', 's', 't', 'a', 'f', 'n', 'z', 'i', 'o', 'd', 'c', 'm', 'p', 'r', 'g', 'l', 'h', 'k', 'y', 'v'])\n",
      "\n",
      "\n",
      "dict_values([1, 8, 28, 7, 9, 8, 2, 15, 3, 11, 16, 7, 9, 6, 2, 10, 2, 4, 1, 1, 1, 1])\n"
     ]
    }
   ],
   "source": [
    "count_lett(\"Questa funzione, definita come sopra,\"\n",
    "           \"prende come unico argomento una stringa di testo\" \n",
    "           \"e rende un dizionario con lettere uniche come key\" \n",
    "           \"e numero di occorrenze delle stesse come value\")"
   ]
  },
  {
   "cell_type": "code",
   "execution_count": null,
   "metadata": {},
   "outputs": [],
   "source": []
  }
 ],
 "metadata": {
  "kernelspec": {
   "display_name": "Python 3",
   "language": "python",
   "name": "python3"
  },
  "language_info": {
   "codemirror_mode": {
    "name": "ipython",
    "version": 3
   },
   "file_extension": ".py",
   "mimetype": "text/x-python",
   "name": "python",
   "nbconvert_exporter": "python",
   "pygments_lexer": "ipython3",
   "version": "3.7.6"
  }
 },
 "nbformat": 4,
 "nbformat_minor": 4
}
