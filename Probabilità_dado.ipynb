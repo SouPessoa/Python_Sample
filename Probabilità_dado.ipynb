{
 "cells": [
  {
   "cell_type": "code",
   "execution_count": 96,
   "metadata": {},
   "outputs": [],
   "source": [
    "#In questo script viene definita la funzione prob_dado con il parametro k pari\n",
    "#al numero di lanci casuali effettuati.\n",
    "\n",
    "import random\n",
    "import matplotlib.pyplot as plot\n",
    "\n",
    "\n",
    "def prob_dado (k):\n",
    "\n",
    "    z = list()\n",
    "\n",
    "    for x in range(k):\n",
    "     y = random.choice([1,2,3,4,5,6])\n",
    "     z.append(y)\n",
    "    #print(x,\": \",y)\n",
    "\n",
    "    uno = int()\n",
    "    due = int()\n",
    "    tre = int()\n",
    "    quattro = int()\n",
    "    cinque = int()\n",
    "    sei = int()\n",
    "\n",
    "    for x in list(z):\n",
    "        if x == 1:\n",
    "            uno += 1\n",
    "        elif x == 2:\n",
    "            due += 1\n",
    "        elif x == 3:\n",
    "            tre += 1\n",
    "        elif x == 4:\n",
    "            quattro += 1\n",
    "        elif x == 5:\n",
    "            cinque += 1\n",
    "        else:\n",
    "            sei += 1\n",
    "\n",
    "    #print(\"\\n\", z)\n",
    "    print(\"\\n\", \"Dopo\", k, \"estrazioni casuali,\")\n",
    "    print(\"\\n\", \"il numero di volte in cui è uscito 'Uno':\", uno)\n",
    "    print(\"\\n\", \"Il numero di volte in cui è uscito 'Due':\", due)\n",
    "    print(\"\\n\", \"Il numero di volte in cui è uscito 'Tre':\", tre)\n",
    "    print(\"\\n\", \"Il numero di volte in cui è uscito 'Quattro':\", quattro)\n",
    "    print(\"\\n\", \"Il numero di volte in cui è uscito 'Cinque':\", cinque)\n",
    "    print(\"\\n\", \"Il numero di volte in cui è uscito 'Sei':\", sei)\n",
    "    print(\"\\n\")\n",
    "    print(\"Il valore atteso teorico è pari a \",(1*(1/6))+(2*(1/6))+(3*(1/6))+(4*(1/6))+(5*(1/6))+(6*(1/6)), \", quello derivante da n = \",k, \"estrazioni casuali è invece pari a \", (1*(uno/k))+(2*(due/k))+(3*(tre/k))+(4*(quattro/k))+(5*(cinque/k))+(6*(sei/k)))\n",
    "    \n",
    "    plot.figure();\n",
    "    \n",
    "    plot.subplot(121)\n",
    "    plot.xticks([0,1.0,2.0,3.0,4.0,5.0,6.0])\n",
    "    plot.yticks([0,0.1,0.2,0.3,0.4,0.5,0.6, 0.7, 0.8, 0.9, 1])\n",
    "    plot.xlabel('Faccia del dado')\n",
    "    plot.ylabel('Frequenza')\n",
    "    plot.title('Funzione di densità')\n",
    "    plot.hist(z, density=True, histtype = \"bar\", align=\"mid\", bins = 13);\n",
    "    \n",
    "    \n",
    "    plot.subplot(122)  \n",
    "    plot.xticks([0,1.0,2.0,3.0,4.0,5.0,6.0])\n",
    "    plot.yticks([0,0.1,0.2,0.3,0.4,0.5,0.6, 0.7, 0.8, 0.9, 1])\n",
    "    plot.xlabel('Faccia del dado')\n",
    "    plot.title('Funzione di ripartizione')\n",
    "    plot.hist(z, density=True,cumulative = True, bins = 12, align=\"mid\", facecolor='gray');\n",
    "  \n"
   ]
  },
  {
   "cell_type": "code",
   "execution_count": 97,
   "metadata": {},
   "outputs": [
    {
     "name": "stdout",
     "output_type": "stream",
     "text": [
      "\n",
      " Dopo 10 estrazioni casuali,\n",
      "\n",
      " il numero di volte in cui è uscito 'Uno': 1\n",
      "\n",
      " Il numero di volte in cui è uscito 'Due': 1\n",
      "\n",
      " Il numero di volte in cui è uscito 'Tre': 2\n",
      "\n",
      " Il numero di volte in cui è uscito 'Quattro': 1\n",
      "\n",
      " Il numero di volte in cui è uscito 'Cinque': 3\n",
      "\n",
      " Il numero di volte in cui è uscito 'Sei': 2\n",
      "\n",
      "\n",
      "Il valore atteso teorico è pari a  3.5 , quello derivante da n =  10 estrazioni casuali è invece pari a  4.0\n"
     ]
    },
    {
     "data": {
      "image/png": "[encoded data removed]",
      "text/plain": [
       "<Figure size 432x288 with 2 Axes>"
      ]
     },
     "metadata": {
      "needs_background": "light"
     },
     "output_type": "display_data"
    }
   ],
   "source": [
    "prob_dado(10)"
   ]
  },
  {
   "cell_type": "code",
   "execution_count": 98,
   "metadata": {},
   "outputs": [
    {
     "name": "stdout",
     "output_type": "stream",
     "text": [
      "\n",
      " Dopo 10000 estrazioni casuali,\n",
      "\n",
      " il numero di volte in cui è uscito 'Uno': 1686\n",
      "\n",
      " Il numero di volte in cui è uscito 'Due': 1672\n",
      "\n",
      " Il numero di volte in cui è uscito 'Tre': 1689\n",
      "\n",
      " Il numero di volte in cui è uscito 'Quattro': 1650\n",
      "\n",
      " Il numero di volte in cui è uscito 'Cinque': 1621\n",
      "\n",
      " Il numero di volte in cui è uscito 'Sei': 1682\n",
      "\n",
      "\n",
      "Il valore atteso teorico è pari a  3.5 , quello derivante da n =  10000 estrazioni casuali è invece pari a  3.4894\n"
     ]
    },
    {
     "data": {
      "image/png": "[encoded data removed]",
      "text/plain": [
       "<Figure size 432x288 with 2 Axes>"
      ]
     },
     "metadata": {
      "needs_background": "light"
     },
     "output_type": "display_data"
    }
   ],
   "source": [
    "prob_dado(10000)"
   ]
  },
  {
   "cell_type": "code",
   "execution_count": 99,
   "metadata": {},
   "outputs": [
    {
     "name": "stdout",
     "output_type": "stream",
     "text": [
      "\n",
      " Dopo 10000000 estrazioni casuali,\n",
      "\n",
      " il numero di volte in cui è uscito 'Uno': 1668029\n",
      "\n",
      " Il numero di volte in cui è uscito 'Due': 1667363\n",
      "\n",
      " Il numero di volte in cui è uscito 'Tre': 1664541\n",
      "\n",
      " Il numero di volte in cui è uscito 'Quattro': 1667085\n",
      "\n",
      " Il numero di volte in cui è uscito 'Cinque': 1666873\n",
      "\n",
      " Il numero di volte in cui è uscito 'Sei': 1666109\n",
      "\n",
      "\n",
      "Il valore atteso teorico è pari a  3.5 , quello derivante da n =  10000000 estrazioni casuali è invece pari a  3.4995737\n"
     ]
    },
    {
     "data": {
      "image/png": "[encoded data removed]",
      "text/plain": [
       "<Figure size 432x288 with 2 Axes>"
      ]
     },
     "metadata": {
      "needs_background": "light"
     },
     "output_type": "display_data"
    }
   ],
   "source": [
    "prob_dado(10000000)"
   ]
  },
  {
   "cell_type": "code",
   "execution_count": null,
   "metadata": {},
   "outputs": [],
   "source": []
  }
 ],
 "metadata": {
  "kernelspec": {
   "display_name": "Python 3",
   "language": "python",
   "name": "python3"
  },
  "language_info": {
   "codemirror_mode": {
    "name": "ipython",
    "version": 3
   },
   "file_extension": ".py",
   "mimetype": "text/x-python",
   "name": "python",
   "nbconvert_exporter": "python",
   "pygments_lexer": "ipython3",
   "version": "3.7.6"
  },
  "varInspector": {
   "cols": {
    "lenName": 16,
    "lenType": 16,
    "lenVar": 40
   },
   "kernels_config": {
    "python": {
     "delete_cmd_postfix": "",
     "delete_cmd_prefix": "del ",
     "library": "var_list.py",
     "varRefreshCmd": "print(var_dic_list())"
    },
    "r": {
     "delete_cmd_postfix": ") ",
     "delete_cmd_prefix": "rm(",
     "library": "var_list.r",
     "varRefreshCmd": "cat(var_dic_list()) "
    }
   },
   "types_to_exclude": [
    "module",
    "function",
    "builtin_function_or_method",
    "instance",
    "_Feature"
   ],
   "window_display": false
  }
 },
 "nbformat": 4,
 "nbformat_minor": 4
}
