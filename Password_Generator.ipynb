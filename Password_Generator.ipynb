{
 "cells": [
  {
   "cell_type": "code",
   "execution_count": 155,
   "metadata": {},
   "outputs": [],
   "source": [
    "def password(name, length):\n",
    "    import random\n",
    "    from datetime import datetime\n",
    "\n",
    "    now = datetime.now()\n",
    "    timestamp = datetime.timestamp(now)\n",
    "    pw = str()\n",
    "    pw_name = str()\n",
    "    pw_time = str()\n",
    "    \n",
    "    characters = \"abcdefghijklmnopqrstuwxyz\" + \"0123456789\" + \"!£$%&/()=?^+.,-_\"\n",
    "    \n",
    "    if length <7:\n",
    "        print(\"\\nLunghezza della password troppo corta (minimo 7 caratteri).\\n\")\n",
    "    else:\n",
    "        for i in range(length-6):\n",
    "            temp = random.choice(characters)\n",
    "            if temp in pw:\n",
    "                pw = pw\n",
    "            else:\n",
    "                pw = pw + temp\n",
    "        for i in range(4):\n",
    "            pw_name += random.choice(name) \n",
    "       \n",
    "    timestamp_str = str(timestamp)\n",
    "    \n",
    "    pw_time = random.choice(timestamp_str) + random.choice(timestamp_str)\n",
    "    \n",
    "    return pw_name + pw + pw_time"
   ]
  },
  {
   "cell_type": "code",
   "execution_count": 156,
   "metadata": {},
   "outputs": [],
   "source": [
    "a = password(\"Giulia\",10)"
   ]
  },
  {
   "cell_type": "code",
   "execution_count": 157,
   "metadata": {},
   "outputs": [
    {
     "data": {
      "text/plain": [
       "'Glai^gui40'"
      ]
     },
     "execution_count": 157,
     "metadata": {},
     "output_type": "execute_result"
    }
   ],
   "source": [
    "a"
   ]
  },
  {
   "cell_type": "code",
   "execution_count": 158,
   "metadata": {},
   "outputs": [
    {
     "data": {
      "text/plain": [
       "10"
      ]
     },
     "execution_count": 158,
     "metadata": {},
     "output_type": "execute_result"
    }
   ],
   "source": [
    "len(str(a))"
   ]
  },
  {
   "cell_type": "code",
   "execution_count": null,
   "metadata": {},
   "outputs": [],
   "source": []
  }
 ],
 "metadata": {
  "kernelspec": {
   "display_name": "Python 3",
   "language": "python",
   "name": "python3"
  },
  "language_info": {
   "codemirror_mode": {
    "name": "ipython",
    "version": 3
   },
   "file_extension": ".py",
   "mimetype": "text/x-python",
   "name": "python",
   "nbconvert_exporter": "python",
   "pygments_lexer": "ipython3",
   "version": "3.7.6"
  }
 },
 "nbformat": 4,
 "nbformat_minor": 4
}
