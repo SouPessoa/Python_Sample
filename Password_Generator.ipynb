{
 "cells": [
  {
   "cell_type": "code",
   "execution_count": 240,
   "metadata": {},
   "outputs": [],
   "source": [
    "def password(name, length):\n",
    "    import random\n",
    "    from datetime import datetime\n",
    "\n",
    "    now = datetime.now()\n",
    "    lenght = str()\n",
    "    timestamp = datetime.timestamp(now)\n",
    "    pw = str()\n",
    "    pw_name = str()\n",
    "    pw_time = str()\n",
    "    \n",
    "    characters = \"abcdefghijklmnopqrstuwxyz\" + \"0123456789\" + \"!£$%&/()=?^+.,-_\"\n",
    "    \n",
    "    if length <7:\n",
    "        print(\"\\nLunghezza della password troppo corta (minimo 7 caratteri).\\n\")\n",
    "    \n",
    "    else:\n",
    "        while int(len(pw)) < (length-6):\n",
    "            for i in range(length-6):\n",
    "                temp = random.choice(characters)\n",
    "                if temp in pw:\n",
    "                    pw = pw\n",
    "                               #doppie += 1\n",
    "                else:\n",
    "                    pw = pw + temp # pw += temp\n",
    "        \n",
    "        for i in range(4):\n",
    "            pw_name += random.choice(name) # pw_name = pw_name + random.choice(name)\n",
    "        \n",
    "    timestamp_str = str(timestamp)\n",
    "    \n",
    "    pw_time = random.choice(timestamp_str) + random.choice(timestamp_str)\n",
    "    \n",
    "    return pw_name + pw + pw_time"
   ]
  },
  {
   "cell_type": "code",
   "execution_count": 246,
   "metadata": {},
   "outputs": [
    {
     "name": "stdout",
     "output_type": "stream",
     "text": [
      "10\n"
     ]
    },
    {
     "data": {
      "text/plain": [
       "'leeA319,91'"
      ]
     },
     "execution_count": 246,
     "metadata": {},
     "output_type": "execute_result"
    }
   ],
   "source": [
    "pw = password(\"Alessandro\", 10)\n",
    "\n",
    "print (len(pw))\n",
    "\n",
    "pw"
   ]
  },
  {
   "cell_type": "code",
   "execution_count": null,
   "metadata": {},
   "outputs": [],
   "source": []
  },
  {
   "cell_type": "code",
   "execution_count": null,
   "metadata": {},
   "outputs": [],
   "source": []
  }
 ],
 "metadata": {
  "kernelspec": {
   "display_name": "Python 3",
   "language": "python",
   "name": "python3"
  },
  "language_info": {
   "codemirror_mode": {
    "name": "ipython",
    "version": 3
   },
   "file_extension": ".py",
   "mimetype": "text/x-python",
   "name": "python",
   "nbconvert_exporter": "python",
   "pygments_lexer": "ipython3",
   "version": "3.7.6"
  }
 },
 "nbformat": 4,
 "nbformat_minor": 4
}
